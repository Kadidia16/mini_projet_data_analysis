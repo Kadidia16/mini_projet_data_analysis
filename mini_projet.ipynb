{
 "cells": [
  {
   "cell_type": "markdown",
   "id": "ac20b86a",
   "metadata": {},
   "source": [
    "# Mini Projet - Extraction des données GeoNames du Burkina Faso"
   ]
  },
  {
   "cell_type": "markdown",
   "id": "5620f248",
   "metadata": {},
   "source": [
    "Ce notebook a pour objectif d'extraire et de traiter un sous-ensemble de données à partir du site [GeoNames](http://www.geonames.org/).\n",
    "Nous allons :\n",
    "1. Télécharger et extraire les données du Burkina Faso.\n",
    "2. Garder uniquement les colonnes ID, location_name, lat, long.\n",
    "3. Effectuer des filtres spécifiques.\n",
    "4. Sauvegarder les résultats en CSV et Excel.\n",
    "5. Permettre le téléchargement direct des fichiers."
   ]
  },
  {
   "cell_type": "code",
   "execution_count": null,
   "id": "2a83dec6",
   "metadata": {},
   "outputs": [],
   "source": [
    "\n",
    "# Installation des bibliothèques nécessaires\n",
    "!pip install pandas openpyxl\n"
   ]
  },
  {
   "cell_type": "code",
   "execution_count": null,
   "id": "2f660434",
   "metadata": {},
   "outputs": [],
   "source": [
    "\n",
    "import pandas as pd\n",
    "import zipfile\n",
    "import requests\n",
    "from google.colab import files\n",
    "\n",
    "# Télécharger le fichier GeoNames BF.zip\n",
    "url = \"https://download.geonames.org/export/dump/BF.zip\"\n",
    "r = requests.get(url)\n",
    "with open(\"BF.zip\", \"wb\") as f:\n",
    "    f.write(r.content)\n",
    "\n",
    "# Extraire BF.txt\n",
    "with zipfile.ZipFile(\"BF.zip\", \"r\") as zip_ref:\n",
    "    zip_ref.extractall()\n"
   ]
  },
  {
   "cell_type": "code",
   "execution_count": null,
   "id": "c993c11e",
   "metadata": {},
   "outputs": [],
   "source": [
    "\n",
    "# Charger et filtrer les colonnes nécessaires\n",
    "df = pd.read_csv(\"BF.txt\", sep=\"\\t\", header=None, dtype=str)\n",
    "df = df[[0, 1, 4, 5]]\n",
    "df.columns = ['ID', 'location_name', 'lat', 'long']\n",
    "\n",
    "# Sauvegarder burkina_location.csv\n",
    "df.to_csv(\"burkina_location.csv\", index=False)\n",
    "\n",
    "# Aperçu\n",
    "df.head()\n"
   ]
  },
  {
   "cell_type": "code",
   "execution_count": null,
   "id": "dba74a94",
   "metadata": {},
   "outputs": [],
   "source": [
    "\n",
    "# Extraction des données contenant \"gounghin\"\n",
    "gounghin_df = df[df['location_name'].str.lower().str.contains(\"gounghin\")]\n",
    "gounghin_df.to_csv(\"gounghin.csv\", index=False)\n",
    "\n",
    "gounghin_df.head()\n"
   ]
  },
  {
   "cell_type": "code",
   "execution_count": null,
   "id": "d7b51776",
   "metadata": {},
   "outputs": [],
   "source": [
    "\n",
    "# Filtrage noms commençant par A à P\n",
    "A_to_P_df = df[df['location_name'].str[0].str.upper().between('A', 'P')]\n",
    "\n",
    "# Latitude et longitude minimales\n",
    "lat_min = A_to_P_df['lat'].astype(float).min()\n",
    "lat_min_location = A_to_P_df.loc[A_to_P_df['lat'].astype(float) == lat_min, 'location_name'].values\n",
    "\n",
    "lon_min = A_to_P_df['long'].astype(float).min()\n",
    "lon_min_location = A_to_P_df.loc[A_to_P_df['long'].astype(float) == lon_min, 'location_name'].values\n",
    "\n",
    "print(\"Latitude minimale :\", lat_min, \"Lieu(x) :\", lat_min_location)\n",
    "print(\"Longitude minimale :\", lon_min, \"Lieu(x) :\", lon_min_location)\n",
    "\n",
    "A_to_P_df.head()\n"
   ]
  },
  {
   "cell_type": "code",
   "execution_count": null,
   "id": "739b1633",
   "metadata": {},
   "outputs": [],
   "source": [
    "\n",
    "# Lieux avec lat >= 11 et lon <= 0.5\n",
    "coords_df = df[(df['lat'].astype(float) >= 11) & (df['long'].astype(float) <= 0.5)]\n",
    "coords_df.head()\n"
   ]
  },
  {
   "cell_type": "code",
   "execution_count": null,
   "id": "067d53c5",
   "metadata": {},
   "outputs": [],
   "source": [
    "\n",
    "# Création du fichier Excel avec 2 feuilles\n",
    "with pd.ExcelWriter(\"mini_projet.xlsx\") as writer:\n",
    "    gounghin_df.to_excel(writer, sheet_name=\"gounghin\", index=False)\n",
    "    A_to_P_df.to_excel(writer, sheet_name=\"A_to_P\", index=False)\n"
   ]
  },
  {
   "cell_type": "code",
   "execution_count": null,
   "id": "5cfabcba",
   "metadata": {},
   "outputs": [],
   "source": [
    "\n",
    "# Téléchargement direct\n",
    "files.download(\"burkina_location.csv\")\n",
    "files.download(\"gounghin.csv\")\n",
    "files.download(\"mini_projet.xlsx\")\n"
   ]
  }
 ],
 "metadata": {},
 "nbformat": 4,
 "nbformat_minor": 5
}